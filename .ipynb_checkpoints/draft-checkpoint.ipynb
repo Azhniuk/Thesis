{
 "cells": [
  {
   "cell_type": "markdown",
   "id": "b03dede4-30b4-4d98-9249-2f3b6e78bcb9",
   "metadata": {},
   "source": [
    "Start with installing libraries"
   ]
  },
  {
   "cell_type": "code",
   "execution_count": null,
   "id": "6f50bd3c-2431-4837-acb9-497281e7c7a0",
   "metadata": {},
   "outputs": [],
   "source": [
    "%pip install opencv-python\n"
   ]
  },
  {
   "cell_type": "code",
   "execution_count": null,
   "id": "66f94d0a-e33f-402a-8cde-bdd2b6103c2d",
   "metadata": {},
   "outputs": [],
   "source": [
    "print(5)"
   ]
  },
  {
   "cell_type": "code",
   "execution_count": null,
   "id": "1ffe5a49-eae9-4143-ad67-2d6c0e09c5ed",
   "metadata": {},
   "outputs": [],
   "source": [
    "%pip install ultralytics"
   ]
  }
 ],
 "metadata": {
  "kernelspec": {
   "display_name": "Python 3 (ipykernel)",
   "language": "python",
   "name": "python3"
  },
  "language_info": {
   "codemirror_mode": {
    "name": "ipython",
    "version": 3
   },
   "file_extension": ".py",
   "mimetype": "text/x-python",
   "name": "python",
   "nbconvert_exporter": "python",
   "pygments_lexer": "ipython3",
   "version": "3.12.5"
  }
 },
 "nbformat": 4,
 "nbformat_minor": 5
}
