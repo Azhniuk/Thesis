{
 "cells": [
  {
   "cell_type": "code",
   "execution_count": 3,
   "id": "89ecd5cf-ac46-474b-9584-8cbfb9c5365d",
   "metadata": {},
   "outputs": [
    {
     "name": "stdout",
     "output_type": "stream",
     "text": [
      "YOLOv10m summary: 288 layers, 16,487,602 parameters, 0 gradients, 64.0 GFLOPs\n"
     ]
    },
    {
     "data": {
      "text/plain": [
       "(288, 16487602, 0, 63.9804672)"
      ]
     },
     "execution_count": 3,
     "metadata": {},
     "output_type": "execute_result"
    }
   ],
   "source": [
    "from ultralytics import YOLO\n",
    "\n",
    "model = YOLO('best.pt') \n",
    "model.info() \n"
   ]
  },
  {
   "cell_type": "code",
   "execution_count": 6,
   "id": "4679ffef-aa5b-42fa-b397-511ed6962355",
   "metadata": {},
   "outputs": [
    {
     "name": "stdout",
     "output_type": "stream",
     "text": [
      "\n",
      "0: 768x1024 44 normal sperms, 945.6ms\n",
      "Speed: 9.6ms preprocess, 945.6ms inference, 3.2ms postprocess per image at shape (1, 3, 768, 1024)\n",
      "Inference FPS: 1.04\n"
     ]
    }
   ],
   "source": [
    "import time\n",
    "from ultralytics import YOLO\n",
    "import cv2\n",
    "import numpy as np\n",
    "\n",
    "model = YOLO(\"best.pt\") \n",
    "\n",
    "img = cv2.imread(\"selected/images/1-11_frame_0.jpg\") \n",
    "if img is None:\n",
    "    img = 255 * np.ones((640, 640, 3), dtype=np.uint8)  \n",
    "\n",
    "model.predict(img)\n",
    "\n",
    "n = 50\n",
    "start = time.time()\n",
    "\n",
    "for _ in range(n):\n",
    "    results = model.predict(img, verbose=False)\n",
    "\n",
    "end = time.time()\n",
    "total_time = end - start\n",
    "fps = n / total_time\n",
    "\n",
    "print(f\"Inference FPS: {fps:.2f}\")"
   ]
  },
  {
   "cell_type": "markdown",
   "id": "58107ef9-53eb-43f1-b486-4fc29b5d8d01",
   "metadata": {},
   "source": [
    "## First atttempt, detects, did not count"
   ]
  },
  {
   "cell_type": "code",
   "execution_count": 10,
   "id": "78660d58-6a71-4e50-9426-096ba5b1ac96",
   "metadata": {},
   "outputs": [
    {
     "name": "stdout",
     "output_type": "stream",
     "text": [
      "\n",
      "image 1/1 /home/sofi/Documents/GitThes/Code/selected/images/11_frame_0.jpg: 768x1024 44 normal sperms, 1065.1ms\n",
      "Speed: 7.4ms preprocess, 1065.1ms inference, 0.4ms postprocess per image at shape (1, 3, 768, 1024)\n"
     ]
    }
   ],
   "source": [
    "from ultralytics import YOLO\n",
    "import cv2\n",
    "from PIL import Image\n",
    "import numpy as np\n",
    "\n",
    "image_path = \"selected/images/11_frame_0.jpg\"\n",
    "model = YOLO(\"best.pt\")  \n",
    "\n",
    "results = model(image_path)\n",
    "\n",
    "for result in results:\n",
    "    boxes = result.boxes \n",
    "    \n",
    "    img = cv2.imread(image_path)\n",
    "    \n",
    "    for box in boxes:\n",
    "        x1, y1, x2, y2 = map(int, box.xyxy[0])\n",
    "        \n",
    "        cls_id = int(box.cls[0])\n",
    "        conf = float(box.conf[0])\n",
    "        \n",
    "        cls_name = model.names[cls_id]\n",
    "        cv2.rectangle(img, (x1, y1), (x2, y2), (0, 255, 0), 2)\n",
    "        \n",
    "        label = f\"{cls_name}: {conf:.2f}\"\n",
    "        cv2.putText(img, label, (x1, y1 - 10), cv2.FONT_HERSHEY_SIMPLEX, 0.5, (0, 255, 0), 2)\n",
    "    \n",
    "    p = f\"{image_path}_result.jpg\"\n",
    "    cv2.imwrite(p, img)"
   ]
  },
  {
   "cell_type": "markdown",
   "id": "c4bf8c74-ad67-4cb8-bf8c-72ec8af0ec51",
   "metadata": {},
   "source": [
    "## Second attempt, detects, counts, for single image or a directory of images"
   ]
  },
  {
   "cell_type": "code",
   "execution_count": 13,
   "id": "da3045ec-cc7d-4bec-b5a9-5386ef5ce80a",
   "metadata": {},
   "outputs": [
    {
     "name": "stdout",
     "output_type": "stream",
     "text": [
      "\n",
      "image 1/1 /home/sofi/Documents/GitThes/Code/selected/images/11_frame_0.jpg: 768x1024 44 normal sperms, 1243.2ms\n",
      "Speed: 9.2ms preprocess, 1243.2ms inference, 0.2ms postprocess per image at shape (1, 3, 768, 1024)\n",
      "Saved result to selected/images/11_frame_0_analyzed.jpg\n",
      "Counter({'normal sperm': 44})\n"
     ]
    }
   ],
   "source": [
    "from ultralytics import YOLO\n",
    "import cv2\n",
    "import numpy as np\n",
    "import os\n",
    "from collections import Counter\n",
    "\n",
    "def process_sperm_image(image_path, model_path=\"best.pt\", conf_threshold=0.25, save_result=True):\n",
    "    model = YOLO(model_path)\n",
    "    results = model(image_path, conf=conf_threshold)\n",
    "    counts = Counter()\n",
    "    img = cv2.imread(image_path)\n",
    "    if img is None:\n",
    "        raise ValueError(f\"Could not read image at {image_path}\")\n",
    "    \n",
    "    colors = {\n",
    "        'normal sperm': (0, 255, 0),     # Green\n",
    "        'small sperm': (0, 255, 255),    # Yellow\n",
    "        'pinhead': (0, 165, 255),        # Orange\n",
    "        'cluster': (0, 0, 255)           # Red\n",
    "    }\n",
    "    \n",
    "    for result in results:\n",
    "        boxes = result.boxes  # Bounding boxes\n",
    "        \n",
    "        for box in boxes:\n",
    "            x1, y1, x2, y2 = map(int, box.xyxy[0])\n",
    "            cls_id = int(box.cls[0])\n",
    "            conf = float(box.conf[0])\n",
    "            cls_name = model.names[cls_id]\n",
    "            counts[cls_name] += 1\n",
    "            \n",
    "            color = colors.get(cls_name.lower(), (0, 255, 0))\n",
    "            cv2.rectangle(img, (x1, y1), (x2, y2), color, 2)\n",
    "            \n",
    "            label = f\"{cls_name}: {conf:.2f}\"\n",
    "            cv2.putText(img, label, (x1, y1 - 10), cv2.FONT_HERSHEY_SIMPLEX, 0.5, color, 2)\n",
    "    \n",
    "    summary_text = []\n",
    "    y_pos = 30\n",
    "    for i, (cls_name, count) in enumerate(counts.items()):\n",
    "        color = colors.get(cls_name.lower(), (0, 255, 0))\n",
    "        summary_text.append(f\"{cls_name}: {count}\")\n",
    "        cv2.putText(img, f\"{cls_name}: {count}\", (10, y_pos + i*30), \n",
    "                    cv2.FONT_HERSHEY_SIMPLEX, 0.7, color, 2)\n",
    "    \n",
    "    total_count = sum(counts.values())\n",
    "    if total_count > 0:\n",
    "        y_pos += len(counts) * 30 + 10\n",
    "        cv2.putText(img, f\"Total count: {total_count}\", (10, y_pos), \n",
    "                    cv2.FONT_HERSHEY_SIMPLEX, 0.7, (255, 255, 255), 2)\n",
    "        \n",
    "        y_pos += 30\n",
    "        for cls_name, count in counts.items():\n",
    "            percentage = (count / total_count) * 100\n",
    "            color = colors.get(cls_name.lower(), (0, 255, 0))\n",
    "            cv2.putText(img, f\"{cls_name}: {percentage:.1f}%\", (10, y_pos), \n",
    "                        cv2.FONT_HERSHEY_SIMPLEX, 0.7, color, 2)\n",
    "            y_pos += 30\n",
    "    \n",
    "    if save_result:\n",
    "        output_path = f\"{os.path.splitext(image_path)[0]}_analyzed.jpg\"\n",
    "        cv2.imwrite(output_path, img)\n",
    "        print(f\"Saved result to {output_path}\")\n",
    "    \n",
    "    return counts, img\n",
    "\n",
    "def process_directory(directory_path, model_path=\"best.pt\", conf_threshold=0.25):\n",
    "    if not os.path.isdir(directory_path):\n",
    "        raise ValueError(f\"{directory_path} is not a valid directory\")\n",
    "    \n",
    "    image_extensions = ['.jpg', '.jpeg', '.png', '.bmp', '.tif', '.tiff']\n",
    "    image_files = [f for f in os.listdir(directory_path) \n",
    "                  if os.path.isfile(os.path.join(directory_path, f)) and \n",
    "                  os.path.splitext(f)[1].lower() in image_extensions]\n",
    "    \n",
    "    if not image_files:\n",
    "        print(f\"No image files found in {directory_path}\")\n",
    "        return\n",
    "    \n",
    "    all_counts = Counter()\n",
    "    total_images = len(image_files)\n",
    "    \n",
    "    for i, image_file in enumerate(image_files):\n",
    "        image_path = os.path.join(directory_path, image_file)\n",
    "        print(f\"Processing image {i+1}/{total_images}: {image_file}\")\n",
    "        \n",
    "        try:\n",
    "            counts, _ = process_sperm_image(image_path, model_path, conf_threshold)\n",
    "            all_counts += counts\n",
    "            print(f\"Counts for {image_file}: {dict(counts)}\")\n",
    "        except Exception as e:\n",
    "            print(f\"Error processing {image_file}: {e}\")\n",
    "    \n",
    "    print(\"\\nSummary Statistics:\")\n",
    "    print(\"-\" * 50)\n",
    "    total_cells = sum(all_counts.values())\n",
    "    \n",
    "    if total_cells > 0:\n",
    "        print(f\"Total cells detected across all images: {total_cells}\")\n",
    "        for cls_name, count in all_counts.items():\n",
    "            percentage = (count / total_cells) * 100\n",
    "            print(f\"{cls_name}: {count} ({percentage:.1f}%)\")\n",
    "    else:\n",
    "        print(\"No cells detected in any images.\")\n",
    "    \n",
    "    csv_path = os.path.join(directory_path, \"sperm_analysis_summary.csv\")\n",
    "    with open(csv_path, 'w') as f:\n",
    "        f.write(\"Class,Count,Percentage\\n\")\n",
    "        for cls_name, count in all_counts.items():\n",
    "            percentage = (count / total_cells) * 100 if total_cells > 0 else 0\n",
    "            f.write(f\"{cls_name},{count},{percentage:.1f}\\n\")\n",
    "        f.write(f\"Total,{total_cells},100.0\\n\")\n",
    "    \n",
    "    print(f\"Summary saved to {csv_path}\")\n",
    "\n",
    "if __name__ == \"__main__\":\n",
    "    counts, _ = process_sperm_image(\"selected/images/11_frame_0.jpg\")\n",
    "    print(counts)\n",
    "  "
   ]
  },
  {
   "cell_type": "code",
   "execution_count": null,
   "id": "deb075fe-6335-41d8-86c6-7d7780ee7439",
   "metadata": {},
   "outputs": [],
   "source": []
  }
 ],
 "metadata": {
  "kernelspec": {
   "display_name": "Python 3 (ipykernel)",
   "language": "python",
   "name": "python3"
  },
  "language_info": {
   "codemirror_mode": {
    "name": "ipython",
    "version": 3
   },
   "file_extension": ".py",
   "mimetype": "text/x-python",
   "name": "python",
   "nbconvert_exporter": "python",
   "pygments_lexer": "ipython3",
   "version": "3.12.7"
  }
 },
 "nbformat": 4,
 "nbformat_minor": 5
}
